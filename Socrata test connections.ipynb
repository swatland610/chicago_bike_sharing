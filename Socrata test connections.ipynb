{
 "cells": [
  {
   "cell_type": "code",
   "execution_count": 4,
   "metadata": {},
   "outputs": [],
   "source": [
    "!source ~/.zshrc"
   ]
  },
  {
   "cell_type": "markdown",
   "metadata": {},
   "source": [
    "## Divvy Bikes, Trips & Community Census Data\n",
    "Sources: [City of Chicago Open Data Portal](https://data.cityofchicago.org/)\n",
    "<br>\n",
    "</br>\n",
    "### Data\n",
    "* [Divvy Stations](https://data.cityofchicago.org/Transportation/Divvy-Bicycle-Stations/bbyy-e7gq/data)\n",
    "* [Divvy Trips](https://data.cityofchicago.org/Transportation/Divvy-Trips/fg6s-gzvg/data)\n",
    "* [2008 - 2012 Socioeconomic Indicators](https://data.cityofchicago.org/Health-Human-Services/Census-Data-Selected-socioeconomic-indicators-in-C/kn9c-c2s2/data)\n",
    "* [Ward Boundaries 2015 - onward](https://data.cityofchicago.org/Facilities-Geographic-Boundaries/Boundaries-Wards-2015-/sp34-6z76)\n",
    "<br></br>\n",
    "### Api Doc for Socrata\n",
    "* [Socrata API Doc](https://dev.socrata.com/docs/endpoints.html)"
   ]
  },
  {
   "cell_type": "code",
   "execution_count": 5,
   "metadata": {},
   "outputs": [],
   "source": [
    "import os\n",
    "import pandas as pd\n",
    "from sodapy import Socrata\n",
    "\n",
    "# Establish env variables\n",
    "username = os.getenv('soc_user')\n",
    "password = os.getenv('soc_pass')\n",
    "token = os.getenv('soc_app_token')\n",
    "\n",
    "# Authenticate client (needed for non-public datasets):\n",
    "client = Socrata(\"data.cityofchicago.org\", \n",
    "                 token, \n",
    "                 username=username, \n",
    "                 password=password,\n",
    "                timeout=25)\n",
    "\n",
    "# Establish end point ids\n",
    "stations = \"bbyy-e7gq\"\n",
    "#census = \n",
    "trips = \"fg6s-gzvg\"\n",
    "#wards = "
   ]
  },
  {
   "cell_type": "code",
   "execution_count": 4,
   "metadata": {},
   "outputs": [
    {
     "data": {
      "text/plain": [
       "['ID',\n",
       " 'Station Name',\n",
       " 'Total Docks',\n",
       " 'Docks in Service',\n",
       " 'Status',\n",
       " 'Latitude',\n",
       " 'Longitude',\n",
       " 'Location',\n",
       " 'Historical Wards 2003-2015',\n",
       " 'Zip Codes',\n",
       " 'Community Areas',\n",
       " 'Census Tracts',\n",
       " 'Wards']"
      ]
     },
     "execution_count": 4,
     "metadata": {},
     "output_type": "execute_result"
    }
   ],
   "source": [
    "metadata = client.get_metadata(stations)\n",
    "[x['name'] for x in metadata['columns']]\n"
   ]
  },
  {
   "cell_type": "code",
   "execution_count": null,
   "metadata": {},
   "outputs": [],
   "source": []
  },
  {
   "cell_type": "code",
   "execution_count": 5,
   "metadata": {},
   "outputs": [
    {
     "name": "stdout",
     "output_type": "stream",
     "text": [
      "<class 'pandas.core.frame.DataFrame'>\n",
      "RangeIndex: 595 entries, 0 to 594\n",
      "Data columns (total 8 columns):\n",
      "id                  595 non-null object\n",
      "station_name        595 non-null object\n",
      "total_docks         595 non-null object\n",
      "docks_in_service    595 non-null object\n",
      "status              595 non-null object\n",
      "latitude            595 non-null object\n",
      "longitude           595 non-null object\n",
      "location            595 non-null object\n",
      "dtypes: object(8)\n",
      "memory usage: 37.3+ KB\n",
      "None\n"
     ]
    }
   ],
   "source": [
    "stations = client.get(stations,\n",
    "                    select=\"*\",\n",
    "                    order='ID'\n",
    "                    )\n",
    "# Convert to pandas DataFrame\n",
    "divvy_stations = pd.DataFrame.from_records(stations)\n",
    "print(divvy_stations.info())"
   ]
  },
  {
   "cell_type": "code",
   "execution_count": 6,
   "metadata": {},
   "outputs": [],
   "source": [
    "# write station data to csv\n",
    "divvy_stations.to_csv('data/divvy_stations.csv')"
   ]
  },
  {
   "cell_type": "code",
   "execution_count": 19,
   "metadata": {},
   "outputs": [],
   "source": [
    "wards = client.get()"
   ]
  },
  {
   "cell_type": "code",
   "execution_count": null,
   "metadata": {},
   "outputs": [],
   "source": []
  }
 ],
 "metadata": {
  "kernelspec": {
   "display_name": "Python 3",
   "language": "python",
   "name": "python3"
  },
  "language_info": {
   "codemirror_mode": {
    "name": "ipython",
    "version": 3
   },
   "file_extension": ".py",
   "mimetype": "text/x-python",
   "name": "python",
   "nbconvert_exporter": "python",
   "pygments_lexer": "ipython3",
   "version": "3.8.2"
  }
 },
 "nbformat": 4,
 "nbformat_minor": 2
}
