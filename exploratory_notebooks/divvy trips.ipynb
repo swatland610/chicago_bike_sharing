{
 "cells": [
  {
   "cell_type": "code",
   "execution_count": null,
   "metadata": {},
   "outputs": [],
   "source": [
    "!source ~/.zshrc"
   ]
  },
  {
   "cell_type": "code",
   "execution_count": 6,
   "metadata": {},
   "outputs": [],
   "source": [
    "import os\n",
    "from sodapy import Socrata\n",
    "import pandas as pd\n",
    "import numpy as np\n",
    "import matplotlib.pyplot as plt\n",
    "import rtree\n",
    "import geopandas as gpd\n",
    "from shapely.geometry import Point, Polygon\n",
    "from shapely import wkt\n",
    "from zipfile import ZipFile\n",
    "import glob\n",
    "from datetime import datetime, date\n",
    "\n",
    "\n",
    "# Establish SodaPy connection\n",
    "# Establish env variables\n",
    "username = os.getenv('soc_user')\n",
    "password = os.getenv('soc_pass')\n",
    "token = os.getenv('soc_app_token')\n",
    "\n",
    "# Authenticate client (needed for non-public datasets):\n",
    "client = Socrata(\"data.cityofchicago.org\", \n",
    "                 token, \n",
    "                 username=username, \n",
    "                 password=password,\n",
    "                timeout=25)\n"
   ]
  },
  {
   "cell_type": "code",
   "execution_count": 7,
   "metadata": {},
   "outputs": [],
   "source": [
    "# Establish zips\n",
    "q2_zip = ZipFile('data/divvy trips/Divvy_Trips_2018_Q2.zip', 'r')\n",
    "q3_zip = ZipFile('data/divvy trips/Divvy_Trips_2018_Q3.zip', 'r')\n",
    "q4_zip = ZipFile('data/divvy trips/Divvy_Trips_2018_Q4.zip', 'r')\n",
    "\n",
    "\n",
    "# Read in Trip Data\n",
    "q2 = q2_zip.open('Divvy_Trips_2018_Q2.csv')\n",
    "q3 = q3_zip.open('Divvy_Trips_2018_Q3.csv')\n",
    "q4 = q4_zip.open('Divvy_Trips_2018_Q4.csv')\n",
    "\n",
    "# Create DF\n",
    "q2_trips = pd.read_csv(q2)\n",
    "q3_trips = pd.read_csv(q3)\n",
    "q4_trips = pd.read_csv(q4)\n"
   ]
  },
  {
   "cell_type": "code",
   "execution_count": 8,
   "metadata": {},
   "outputs": [
    {
     "name": "stdout",
     "output_type": "stream",
     "text": [
      "<class 'pandas.core.frame.DataFrame'>\n",
      "RangeIndex: 581 entries, 0 to 580\n",
      "Data columns (total 12 columns):\n",
      " #   Column            Non-Null Count  Dtype  \n",
      "---  ------            --------------  -----  \n",
      " 0   station_name      581 non-null    object \n",
      " 1   Wards             581 non-null    int64  \n",
      " 2   total_docks       581 non-null    int64  \n",
      " 3   latitude          581 non-null    float64\n",
      " 4   longitude         581 non-null    float64\n",
      " 5   status            581 non-null    object \n",
      " 6   Community Areas   581 non-null    int64  \n",
      " 7   docks_in_service  581 non-null    int64  \n",
      " 8   id                581 non-null    int64  \n",
      " 9   geometry          581 non-null    object \n",
      " 10  community num     581 non-null    int64  \n",
      " 11  side              581 non-null    object \n",
      "dtypes: float64(2), int64(6), object(4)\n",
      "memory usage: 54.6+ KB\n"
     ]
    }
   ],
   "source": [
    "# Bring in Divvy Stations Data\n",
    "divvy_stations = pd.read_csv('data/divvy_stations.csv')\n",
    "divvy_stations.info()"
   ]
  },
  {
   "cell_type": "code",
   "execution_count": 9,
   "metadata": {},
   "outputs": [],
   "source": [
    "# Define Station Look Up Functions\n",
    "def station_comm_num(id):\n",
    "    dex = divvy_stations[divvy_stations['id']==id].index\n",
    "    y = divvy_stations.loc[dex]['community num'].values\n",
    "    num = str(y).replace(\"['\",\"\").replace(\"']\", \"\")\n",
    "    return num\n",
    "\n",
    "def station_side(id):\n",
    "    dex = divvy_stations[divvy_stations['id']==id].index\n",
    "    y = divvy_stations.loc[dex]['side'].values\n",
    "    side = str(y).replace(\"['\",\"\").replace(\"']\", \"\")\n",
    "    return side"
   ]
  },
  {
   "cell_type": "code",
   "execution_count": 11,
   "metadata": {},
   "outputs": [
    {
     "name": "stdout",
     "output_type": "stream",
     "text": [
      "<class 'pandas.core.frame.DataFrame'>\n",
      "RangeIndex: 3215937 entries, 0 to 3215936\n",
      "Data columns (total 12 columns):\n",
      " #   Column             Dtype  \n",
      "---  ------             -----  \n",
      " 0   trip_id            int64  \n",
      " 1   start_time         object \n",
      " 2   end_time           object \n",
      " 3   bikeid             int64  \n",
      " 4   tripduration       object \n",
      " 5   from_station_id    int64  \n",
      " 6   from_station_name  object \n",
      " 7   to_station_id      int64  \n",
      " 8   to_station_name    object \n",
      " 9   usertype           object \n",
      " 10  gender             object \n",
      " 11  birthyear          float64\n",
      "dtypes: float64(1), int64(4), object(7)\n",
      "memory usage: 294.4+ MB\n"
     ]
    }
   ],
   "source": [
    "group_trips = [q2_trips, q3_trips, q4_trips]\n",
    "trips_df = pd.concat(group_trips, ignore_index=True)\n",
    "trips_df.info()\n"
   ]
  },
  {
   "cell_type": "code",
   "execution_count": 13,
   "metadata": {},
   "outputs": [],
   "source": [
    "# Add Calculations and fix datetimes\n",
    "trips_df['tripduration'] = trips_df['tripduration'].apply(lambda x: round(float(x.replace(\",\",\"\")),2))\n",
    "trips_df['trip duration (min)'] = trips_df['tripduration']/60\n",
    "trips_df['start_time'] = trips_df['start_time'].apply(lambda x: datetime.strptime(x, \"%Y-%m-%d %H:%M:%S\"))\n",
    "trips_df['end_time'] = trips_df['end_time'].apply(lambda x: datetime.strptime(x, \"%Y-%m-%d %H:%M:%S\"))\n",
    "trips_df['month'] = trips_df['start_time'].apply(lambda x: x.strftime('%b-%y'))"
   ]
  },
  {
   "cell_type": "code",
   "execution_count": 23,
   "metadata": {},
   "outputs": [],
   "source": [
    "#trips_df['from comm num'] = trips_df['from_station_id'].apply(lambda x: station_comm_num(x))\n",
    "#trips_df['to comm num'] = trips_df['to_station_id'].apply(lambda x: station_comm_num(x))\n",
    "#trips_df['from side'] = trips_df['from_station_id'].apply(lambda x: station_side(x))\n",
    "trips_df['to side'] = trips_df['to_station_id'].apply(lambda x: station_side(x))"
   ]
  },
  {
   "cell_type": "code",
   "execution_count": 22,
   "metadata": {},
   "outputs": [
    {
     "data": {
      "text/plain": [
       "from side\n",
       "[]                  22351\n",
       "far north side     182714\n",
       "far south side       1294\n",
       "loop              1349062\n",
       "north side         758404\n",
       "northwest side      10878\n",
       "south side         152494\n",
       "southwest side       4380\n",
       "west side          734360\n",
       "Name: trip_id, dtype: int64"
      ]
     },
     "execution_count": 22,
     "metadata": {},
     "output_type": "execute_result"
    }
   ],
   "source": [
    "# General Aggregates\n",
    "from_agg_by_side = trips_df.groupby('from side')['trip_id'].agg('count')\n",
    "from_agg_by_side"
   ]
  },
  {
   "cell_type": "code",
   "execution_count": 25,
   "metadata": {},
   "outputs": [],
   "source": [
    "trips_df.to_csv('data/2018_trips.csv.gz',\n",
    "               index=False,\n",
    "                chunksize=100000,\n",
    "                compression='gzip',\n",
    "                encoding='utf-8'\n",
    "               )"
   ]
  },
  {
   "cell_type": "code",
   "execution_count": null,
   "metadata": {},
   "outputs": [],
   "source": []
  }
 ],
 "metadata": {
  "kernelspec": {
   "display_name": "Python 3.8.2 64-bit",
   "language": "python",
   "name": "python38264bit3ef51e4033a143b48d6e3985ffb71731"
  },
  "language_info": {
   "codemirror_mode": {
    "name": "ipython",
    "version": 3
   },
   "file_extension": ".py",
   "mimetype": "text/x-python",
   "name": "python",
   "nbconvert_exporter": "python",
   "pygments_lexer": "ipython3",
   "version": "3.8.6"
  }
 },
 "nbformat": 4,
 "nbformat_minor": 4
}
